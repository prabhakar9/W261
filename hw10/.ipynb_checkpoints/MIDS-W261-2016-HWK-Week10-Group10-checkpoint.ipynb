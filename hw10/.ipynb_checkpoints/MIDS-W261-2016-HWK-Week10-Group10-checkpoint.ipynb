{
 "cells": [
  {
   "cell_type": "markdown",
   "metadata": {},
   "source": [
    "# DATASCI W261: Machine Learning at Scale"
   ]
  },
  {
   "cell_type": "markdown",
   "metadata": {},
   "source": [
    "**Group:** 10 <br>\n",
    "**Names:** <br>\n",
    "Prabhakar Gundugola, <br>\n",
    "Yi Jin, <br>\n",
    "Jaime Villalpando <br><br>\n",
    "**Emails:** <br>\n",
    "prabhakar@berkeley.edu, <br>\n",
    "yjin@ischool.berkeley.edu, <br>\n",
    "jaimegvl@ischool.berkeley.edu <br><br>\n",
    "**Time of Initial Submission:** Mar 28, 2016 <br>\n",
    "**Week 10:** Homework 10 <br>\n",
    "**Date:** March 28, 2016 <br>\n",
    "**Time of Submission:** 11:30 PM PT"
   ]
  },
  {
   "cell_type": "code",
   "execution_count": 1,
   "metadata": {
    "collapsed": true
   },
   "outputs": [],
   "source": [
    "!export SPARK_HOME=/usr/local/spark"
   ]
  },
  {
   "cell_type": "code",
   "execution_count": 2,
   "metadata": {
    "collapsed": false
   },
   "outputs": [
    {
     "name": "stdout",
     "output_type": "stream",
     "text": [
      "SPARK_HOME is:/usr/local/spark\n",
      "Welcome to\n",
      "      ____              __\n",
      "     / __/__  ___ _____/ /__\n",
      "    _\\ \\/ _ \\/ _ `/ __/  '_/\n",
      "   /__ / .__/\\_,_/_/ /_/\\_\\   version 1.5.1\n",
      "      /_/\n",
      "\n",
      "Using Python version 2.7.10 (default, May 28 2015 17:02:03)\n",
      "SparkContext available as sc, HiveContext available as sqlContext.\n"
     ]
    }
   ],
   "source": [
    "import os\n",
    "import sys\n",
    "\n",
    "spark_home = os.environ.get('SPARK_HOME', None)\n",
    "print 'SPARK_HOME is:' + spark_home\n",
    "\n",
    "sys.path.insert(0, os.path.join(spark_home, 'python'))\n",
    "sys.path.insert(0, os.path.join(spark_home, 'python/lib/py4j-0.8.2.1-src.zip'))\n",
    "execfile(os.path.join(spark_home, 'python/pyspark/shell.py'))"
   ]
  },
  {
   "cell_type": "markdown",
   "metadata": {},
   "source": [
    "# HW 10.0: Short answer questions\n",
    "****What is Apache Spark and how is it different to Apache Hadoop?****\n",
    "Apache Spark is a fast and general engine for large scale data processing. It can run on top of distributed file systems like Hadoop, GPFS, Tachyon, or in standalone mode. \n",
    "\n",
    "*****Difference between Apache Spark and Apache Hadoop*****\n",
    "\n",
    "Unlike Apache Hadoop, data processing in Spark is done in memory via RDD (Resilient Distributed Dataset).\n",
    "\n",
    "Spark provides programmers with an application programming interface centered on a data structure called the resilient distributed dataset (RDD), a read-only multiset of data items distributed over a cluster of machines, that is maintained in a fault-tolerant way.\n",
    "\n",
    "****Fill in the blanks:**** <br>\n",
    "Spark API consists of interfaces to develop applications based on it in Java, ***Scala, Python*** languages (list languages).\n",
    "\n",
    "Using Spark, resource management can be done either in a single server instance or using a framework such as Mesos or ***YARN*** in a distributed manner.\n",
    "\n",
    "****What is an RDD and show a fun example of creating one and bringing the first element back to the driver program.****<br>\n",
    "An RDD (Resilient Distributed Dataset) is the basic abstraction in Spark. It represents an immutable, partitioned collection of elements that can be operated on in parallel.\n",
    "\n",
    "The class contains the basic operations available on all RDDs, such as **map, filter,** and **persist**. \n",
    "\n",
    "RDDs are not materialized until an action is called. This is also known as **lazy evaluation**.\n",
    "\n",
    "There are 2 types of RDDs -\n",
    "- Base RDD (only values)\n",
    "- Pair RDD (key-value pairs)\n",
    "\n",
    "**Example:**<br>\n",
    "text_rdd = sc.textFile('data.csv').cache() <br>\n",
    "data_points = text_rdd.map(lambda line: [v for v in line.strip().split(',')]) <br>\n",
    "print \"First line:\", data_points.take(1) <br>\n",
    "\n",
    "****What is lazy evaluation and give an intuitoive example of lazy evaluation and comment on the massive computational savings to be had from lazy evaluation.****<br>\n",
    "Lazy evaluation means something is not computed until an action is called. In Spark, when the RDD is loaded and transformed, Spark just stores the instructions on how the data should be transformed when an action is called. This way, it will have huge computational savings because the data is not really materialized until a result needs to be sent back to the server."
   ]
  },
  {
   "cell_type": "code",
   "execution_count": 105,
   "metadata": {
    "collapsed": false
   },
   "outputs": [
    {
     "data": {
      "text/plain": [
       "'test'"
      ]
     },
     "execution_count": 105,
     "metadata": {},
     "output_type": "execute_result"
    }
   ],
   "source": [
    "# Lazy evaluation example\n",
    "\n",
    "# Let's take an array of elements\n",
    "words_list = ['test', 'spark', 'program', 'to', 'find', 'directory']\n",
    "\n",
    "# Store the array in RDD\n",
    "words_rdd = sc.parallelize(words_list)\n",
    "\n",
    "# Retrieve the first element\n",
    "words_rdd.first()\n",
    "#words_rdd.saveAsTextFile('hdfs://localhost:54310/user/root/testfile.txt')"
   ]
  },
  {
   "cell_type": "markdown",
   "metadata": {
    "collapsed": true
   },
   "source": [
    "# HW 10.1\n",
    "****In Spark write the code to count how often each word appears in a text document (or set of documents). Please use this homework document as a the example document to run an experiment.  Report the following: provide a sorted list of tokens in decreasing order of frequency of occurence.****"
   ]
  },
  {
   "cell_type": "code",
   "execution_count": 3,
   "metadata": {
    "collapsed": false
   },
   "outputs": [],
   "source": [
    "!chmod a+x /root/.bashrc"
   ]
  },
  {
   "cell_type": "code",
   "execution_count": 4,
   "metadata": {
    "collapsed": false
   },
   "outputs": [
    {
     "name": "stdout",
     "output_type": "stream",
     "text": [
      "copyFromLocal: `/user/root/wk10/hw101/MIDS-MLS-HW-10.txt': File exists\r\n"
     ]
    }
   ],
   "source": [
    "!hdfs dfs -copyFromLocal MIDS-MLS-HW-10.txt /user/root/wk10/hw101"
   ]
  },
  {
   "cell_type": "code",
   "execution_count": 11,
   "metadata": {
    "collapsed": false
   },
   "outputs": [],
   "source": [
    "words_list = ['test', 'spark', 'program', 'to', 'find', 'directory']\n",
    "\n",
    "words_rdd = sc.parallelize(words_list)\n",
    "\n",
    "words_rdd.collect()\n",
    "words_rdd.saveAsTextFile('hdfs://localhost:54310/user/root/testfile.txt')"
   ]
  },
  {
   "cell_type": "code",
   "execution_count": 7,
   "metadata": {
    "collapsed": false
   },
   "outputs": [
    {
     "name": "stdout",
     "output_type": "stream",
     "text": [
      "Word      \tCount     \n",
      "========================\n",
      "the       \t46        \n",
      "and       \t24        \n",
      "in        \t18        \n",
      "of        \t17        \n",
      "HW        \t13        \n",
      "a         \t12        \n",
      "for       \t11        \n",
      "data      \t10        \n",
      "code      \t10        \n",
      "to        \t9         \n",
      "is        \t8         \n",
      "with      \t7         \n",
      "this      \t7         \n",
      "Using     \t7         \n",
      "on        \t7         \n",
      "your      \t7         \n",
      "KMeans    \t7         \n",
      "clusters  \t6         \n",
      "iterations\t5         \n",
      "from      \t5         \n",
      "as        \t5         \n",
      "regression\t5         \n",
      "What      \t4         \n",
      "words     \t4         \n",
      "HW103     \t4         \n",
      "Sum       \t4         \n",
      "100       \t4         \n",
      "Comment   \t4         \n",
      "following \t4         \n",
      "Squared   \t4         \n",
      "Spark     \t4         \n",
      "model     \t4         \n",
      "using     \t4         \n",
      "each      \t4         \n",
      "set       \t4         \n",
      "linear    \t4         \n",
      "example   \t4         \n",
      "one       \t4         \n",
      "x         \t4         \n",
      "Set       \t4         \n",
      "provided  \t4         \n",
      "list      \t3         \n",
      "findings  \t3         \n",
      "evaluation\t3         \n",
      "available \t3         \n",
      "lazy      \t3         \n",
      "training  \t3         \n",
      "count     \t3         \n",
      "Please    \t3         \n",
      "report    \t3         \n",
      "NOTE      \t3         \n",
      "Errors    \t3         \n",
      "plot      \t3         \n",
      "results   \t3         \n",
      "Within    \t3         \n",
      "import    \t3         \n",
      "after     \t3         \n",
      "or        \t3         \n",
      "plots     \t3         \n",
      "it        \t3         \n",
      "an        \t3         \n",
      "document  \t3         \n",
      "notebook  \t3         \n",
      "LASS0     \t2         \n",
      "Explain   \t2         \n",
      "httpswwwdropboxcomsq85t0ytb9apggnhkmeansdatatxtdl0\t2         \n",
      "languages \t2         \n",
      "Apache    \t2         \n",
      "homework  \t2         \n",
      "1061      \t2         \n",
      "per       \t2         \n",
      "Report    \t2         \n",
      "run       \t2         \n",
      "here      \t2         \n",
      "OPTIONAL  \t2         \n",
      "kmeansdatatxt\t2         \n",
      "RIDGE     \t2         \n",
      "word      \t2         \n",
      "provide   \t2         \n",
      "snippet   \t2         \n",
      "y         \t2         \n",
      "myModelPath\t2         \n",
      "how       \t2         \n",
      "Generate  \t2         \n",
      "follows   \t2         \n",
      "testing   \t2         \n",
      "frequency \t2         \n",
      "X         \t2         \n",
      "between   \t2         \n",
      "be        \t2         \n",
      "found     \t2         \n",
      "team      \t2         \n",
      "via       \t2         \n",
      "point     \t2         \n",
      "that      \t2         \n",
      "differences\t2         \n",
      "10        \t2         \n",
      "up        \t2         \n",
      "vector    \t2         \n",
      "cluster   \t2         \n",
      "any       \t2         \n",
      "blanks    \t2         \n",
      "In        \t2         \n",
      "repeat    \t2         \n",
      "2         \t2         \n",
      "center    \t2         \n",
      "points    \t2         \n",
      "decreasing\t2         \n",
      "at        \t2         \n",
      "order     \t2         \n",
      "Fill      \t2         \n",
      "sameModel \t1         \n",
      "all       \t1         \n",
      "strWSSSE  \t1         \n",
      "not       \t1         \n",
      "intuitoive\t1         \n",
      "questions \t1         \n",
      "carefully \t1         \n",
      "03152016  \t1         \n",
      "write     \t1         \n",
      "group     \t1         \n",
      "implementation\t1         \n",
      "HW105     \t1         \n",
      "Modify    \t1         \n",
      "Here      \t1         \n",
      "weeks     \t1         \n",
      "submissions\t1         \n",
      "case      \t1         \n",
      "return    \t1         \n",
      "load      \t1         \n",
      "homeworks \t1         \n",
      "compute   \t1         \n",
      "bringing  \t1         \n",
      "SPECIAL   \t1         \n",
      "runs      \t1         \n",
      "resource  \t1         \n",
      "DATSCI    \t1         \n",
      "math      \t1         \n",
      "Learning  \t1         \n",
      "where     \t1         \n",
      "datamaplambda\t1         \n",
      "Java      \t1         \n",
      "generation\t1         \n",
      "begin     \t1         \n",
      "consists  \t1         \n",
      "END       \t1         \n",
      "Run       \t1         \n",
      "please    \t1         \n",
      "labeled   \t1         \n",
      "cell      \t1         \n",
      "3         \t1         \n",
      "above     \t1         \n",
      "exercise  \t1         \n",
      "HW10      \t1         \n",
      "This      \t1         \n",
      "W261      \t1         \n",
      "interfaces\t1         \n",
      "modify    \t1         \n",
      "20        \t1         \n",
      "fun       \t1         \n",
      "102       \t1         \n",
      "based     \t1         \n",
      "104       \t1         \n",
      "parameters\t1         \n",
      "Weight    \t1         \n",
      "column    \t1         \n",
      "completing\t1         \n",
      "SQRTXX    \t1         \n",
      "length    \t1         \n",
      "resulting \t1         \n",
      "Download  \t1         \n",
      "UC        \t1         \n",
      "comment   \t1         \n",
      "letters   \t1         \n",
      "Gradient  \t1         \n",
      "distributed\t1         \n",
      "done      \t1         \n",
      "initializationModerandom\t1         \n",
      "array     \t1         \n",
      "clustering\t1         \n",
      "use       \t1         \n",
      "106       \t1         \n",
      "submit    \t1         \n",
      "X2        \t1         \n",
      "Homeworks \t1         \n",
      "numpy     \t1         \n",
      "sort      \t1         \n",
      "errorpoint\t1         \n",
      "form      \t1         \n",
      "httpsdocsgooglecomformsd1ZOr9RnIeA06AcZDB6K1mJN4vrLeSmS2PD6Xm3eOiisviewformuspsendform\t1         \n",
      "tokens    \t1         \n",
      "forward   \t1         \n",
      "pysparkmllibclustering\t1         \n",
      "line      \t1         \n",
      "clusterssavesc\t1         \n",
      "had       \t1         \n",
      "Load      \t1         \n",
      "MLlibcentric\t1         \n",
      "iteration \t1         \n",
      "single    \t1         \n",
      "See       \t1         \n",
      "norm      \t1         \n",
      "clusterscentersclusterspredictpoint\t1         \n",
      "def       \t1         \n",
      "sqrtsumx2 \t1         \n",
      "links     \t1         \n",
      "httpswwwdropboxcoms3nsthvp8g2rrrdhEMKmeansipynbdl0\t1         \n",
      "parse     \t1         \n",
      "Call      \t1         \n",
      "tab       \t1         \n",
      "SQRTX12   \t1         \n",
      "DATA      \t1         \n",
      "WSSSE     \t1         \n",
      "different \t1         \n",
      "develop   \t1         \n",
      "sqrt      \t1         \n",
      "answer    \t1         \n",
      "Machine   \t1         \n",
      "driver    \t1         \n",
      "regularization\t1         \n",
      "tune      \t1         \n",
      "lower     \t1         \n",
      "occurence \t1         \n",
      "Mesos     \t1         \n",
      "maxIterations10\t1         \n",
      "savings   \t1         \n",
      "1         \t1         \n",
      "algorithms\t1         \n",
      "arrayfloatx\t1         \n",
      "hyper     \t1         \n",
      "show      \t1         \n",
      "text      \t1         \n",
      "Hadoop    \t1         \n",
      "KMeansModelloadsc\t1         \n",
      "follow    \t1         \n",
      "Final     \t1         \n",
      "Euclidean \t1         \n",
      "X22       \t1         \n",
      "inverse   \t1         \n",
      "Kmean     \t1         \n",
      "Linear    \t1         \n",
      "going     \t1         \n",
      "Berkeley  \t1         \n",
      "1062      \t1         \n",
      "do        \t1         \n",
      "good      \t1         \n",
      "get       \t1         \n",
      "evaluate  \t1         \n",
      "framework \t1         \n",
      "made      \t1         \n",
      "progress  \t1         \n",
      "sorted    \t1         \n",
      "dataset   \t1         \n",
      "HW104     \t1         \n",
      "instructions\t1         \n",
      "homegrown \t1         \n",
      "server    \t1         \n",
      "assignments\t1         \n",
      "API       \t1         \n",
      "either    \t1         \n",
      "output    \t1         \n",
      "runs10    \t1         \n",
      "Again     \t1         \n",
      "often     \t1         \n",
      "ASSIGNMENT\t1         \n",
      "back      \t1         \n",
      "experiments\t1         \n",
      "located   \t1         \n",
      "Build     \t1         \n",
      "measure   \t1         \n",
      "experiements\t1         \n",
      "Save      \t1         \n",
      "parsedData\t1         \n",
      "Evaluate  \t1         \n",
      "separate  \t1         \n",
      "find      \t1         \n",
      "MLlibs    \t1         \n",
      "experiment\t1         \n",
      "weighted  \t1         \n",
      "Regression\t1         \n",
      "1011      \t1         \n",
      "Short     \t1         \n",
      "creating  \t1         \n",
      "Team      \t1         \n",
      "103       \t1         \n",
      "101       \t1         \n",
      "by        \t1         \n",
      "105       \t1         \n",
      "la        \t1         \n",
      "ISVC      \t1         \n",
      "massive   \t1         \n",
      "first     \t1         \n",
      "Then      \t1         \n",
      "computational\t1         \n",
      "1X        \t1         \n",
      "number    \t1         \n",
      "Scale     \t1         \n",
      "DropBox   \t1         \n",
      "management\t1         \n",
      "give      \t1         \n",
      "appears   \t1         \n",
      "INSTURCTIONS\t1         \n",
      "program   \t1         \n",
      "Plot      \t1         \n",
      "hundred   \t1         \n",
      "thru      \t1         \n",
      "KMeanstrainparsedData\t1         \n",
      "Justify   \t1         \n",
      "more      \t1         \n",
      "httpswwwdropboxcomsatzqkc0p1eajuz6LinearRegressionNotebookChallengeipynbdl0\t1         \n",
      "Assignments\t1         \n",
      "train     \t1         \n",
      "MIDS      \t1         \n",
      "parsedDatamaplambda\t1         \n",
      "work      \t1         \n",
      "can       \t1         \n",
      "KMeansModel\t1         \n",
      "sets      \t1         \n",
      "Your      \t1         \n",
      "are       \t1         \n",
      "LinearRegressionWithSGD\t1         \n",
      "computing \t1         \n",
      "X1        \t1         \n",
      "MLLib     \t1         \n",
      "manner    \t1         \n",
      "az        \t1         \n",
      "httpsdocsgooglecomspreadsheetsd1ncFQl5Tovn16slD8mYjPnzMTPSfiGeLLzW8vsMjgedituspsharing\t1         \n",
      "documents \t1         \n",
      "KMEans    \t1         \n",
      "descent   \t1         \n",
      "MLLibs    \t1         \n",
      "instance  \t1         \n",
      "Error     \t1         \n",
      "other     \t1         \n",
      "printWithin\t1         \n",
      "sctextFilekmeansdatatxt\t1         \n",
      "assignment\t1         \n",
      "applications\t1         \n",
      "linesplit \t1         \n",
      "such      \t1         \n",
      "Teams     \t1         \n",
      "weightX   \t1         \n",
      "errorpointreducelambda\t1         \n",
      "RDD       \t1         \n",
      "V13       \t1         \n",
      "element   \t1         \n"
     ]
    }
   ],
   "source": [
    "import re\n",
    "\n",
    "# Function to preprocess the line - remove punctuation and then split the line.\n",
    "def preprocess_text(line):\n",
    "    line = re.sub(u'[^A-Za-z0-9 ]+', '', line)\n",
    "    return line.strip().split()\n",
    "\n",
    "# Now parallelize the words in the text file, do the word count and then sort\n",
    "words_list = sc.textFile('hdfs://localhost:54310/user/root/wk10/hw101/MIDS-MLS-HW-10.txt')\n",
    "words_rdd = words_list.flatMap(preprocess_text).map(lambda x:(x,1)).reduceByKey(lambda x,y:x+y)\n",
    "words_sorted = words_rdd.map(lambda x: (x[1], x[0])).sortByKey(ascending=False).collect()\n",
    "\n",
    "print \"{:10s}\\t{:10s}\".format('Word', 'Count')\n",
    "print \"========================\"\n",
    "for count, word in words_sorted:\n",
    "    print \"{:10s}\\t{:10s}\".format(word, str(count))\n"
   ]
  },
  {
   "cell_type": "markdown",
   "metadata": {},
   "source": [
    "# HW 10.1.1\n",
    "****Modify the above word count code to count words that begin with lower case letters (a-z) and report your findings. Again sort the output words in decreasing order of frequency.****"
   ]
  },
  {
   "cell_type": "code",
   "execution_count": 8,
   "metadata": {
    "collapsed": false
   },
   "outputs": [
    {
     "name": "stdout",
     "output_type": "stream",
     "text": [
      "Word      \tCount     \n",
      "========================\n",
      "the       \t46        \n",
      "and       \t24        \n",
      "in        \t18        \n",
      "of        \t17        \n",
      "a         \t12        \n",
      "for       \t11        \n",
      "data      \t10        \n",
      "code      \t10        \n",
      "to        \t9         \n",
      "is        \t8         \n",
      "with      \t7         \n",
      "this      \t7         \n",
      "on        \t7         \n",
      "your      \t7         \n",
      "clusters  \t6         \n",
      "iterations\t5         \n",
      "from      \t5         \n",
      "as        \t5         \n",
      "regression\t5         \n",
      "words     \t4         \n",
      "following \t4         \n",
      "model     \t4         \n",
      "using     \t4         \n",
      "each      \t4         \n",
      "x         \t4         \n",
      "set       \t4         \n",
      "linear    \t4         \n",
      "one       \t4         \n",
      "example   \t4         \n",
      "provided  \t4         \n",
      "report    \t3         \n",
      "list      \t3         \n",
      "findings  \t3         \n",
      "evaluation\t3         \n",
      "available \t3         \n",
      "lazy      \t3         \n",
      "training  \t3         \n",
      "count     \t3         \n",
      "results   \t3         \n",
      "import    \t3         \n",
      "plots     \t3         \n",
      "or        \t3         \n",
      "plot      \t3         \n",
      "it        \t3         \n",
      "an        \t3         \n",
      "document  \t3         \n",
      "after     \t3         \n",
      "notebook  \t3         \n",
      "httpswwwdropboxcomsq85t0ytb9apggnhkmeansdatatxtdl0\t2         \n",
      "languages \t2         \n",
      "homework  \t2         \n",
      "per       \t2         \n",
      "run       \t2         \n",
      "here      \t2         \n",
      "word      \t2         \n",
      "kmeansdatatxt\t2         \n",
      "provide   \t2         \n",
      "snippet   \t2         \n",
      "y         \t2         \n",
      "myModelPath\t2         \n",
      "follows   \t2         \n",
      "vector    \t2         \n",
      "testing   \t2         \n",
      "frequency \t2         \n",
      "between   \t2         \n",
      "be        \t2         \n",
      "found     \t2         \n",
      "team      \t2         \n",
      "how       \t2         \n",
      "via       \t2         \n",
      "point     \t2         \n",
      "that      \t2         \n",
      "differences\t2         \n",
      "up        \t2         \n",
      "at        \t2         \n",
      "cluster   \t2         \n",
      "any       \t2         \n",
      "blanks    \t2         \n",
      "repeat    \t2         \n",
      "center    \t2         \n",
      "points    \t2         \n",
      "decreasing\t2         \n",
      "order     \t2         \n",
      "sameModel \t1         \n",
      "load      \t1         \n",
      "all       \t1         \n",
      "intuitoive\t1         \n",
      "questions \t1         \n",
      "carefully \t1         \n",
      "write     \t1         \n",
      "group     \t1         \n",
      "implementation\t1         \n",
      "had       \t1         \n",
      "weeks     \t1         \n",
      "submissions\t1         \n",
      "case      \t1         \n",
      "return    \t1         \n",
      "homeworks \t1         \n",
      "compute   \t1         \n",
      "bringing  \t1         \n",
      "runs      \t1         \n",
      "resource  \t1         \n",
      "exercise  \t1         \n",
      "where     \t1         \n",
      "datamaplambda\t1         \n",
      "generation\t1         \n",
      "strWSSSE  \t1         \n",
      "consists  \t1         \n",
      "please    \t1         \n",
      "cell      \t1         \n",
      "above     \t1         \n",
      "math      \t1         \n",
      "interfaces\t1         \n",
      "modify    \t1         \n",
      "not       \t1         \n",
      "based     \t1         \n",
      "parameters\t1         \n",
      "column    \t1         \n",
      "clusterscentersclusterspredictpoint\t1         \n",
      "completing\t1         \n",
      "length    \t1         \n",
      "resulting \t1         \n",
      "comment   \t1         \n",
      "letters   \t1         \n",
      "distributed\t1         \n",
      "done      \t1         \n",
      "initializationModerandom\t1         \n",
      "array     \t1         \n",
      "clustering\t1         \n",
      "use       \t1         \n",
      "submit    \t1         \n",
      "forward   \t1         \n",
      "numpy     \t1         \n",
      "sort      \t1         \n",
      "errorpoint\t1         \n",
      "form      \t1         \n",
      "lower     \t1         \n",
      "tokens    \t1         \n",
      "pysparkmllibclustering\t1         \n",
      "line      \t1         \n",
      "clusterssavesc\t1         \n",
      "iteration \t1         \n",
      "labeled   \t1         \n",
      "norm      \t1         \n",
      "fun       \t1         \n",
      "def       \t1         \n",
      "sqrtsumx2 \t1         \n",
      "links     \t1         \n",
      "httpswwwdropboxcoms3nsthvp8g2rrrdhEMKmeansipynbdl0\t1         \n",
      "parse     \t1         \n",
      "single    \t1         \n",
      "tab       \t1         \n",
      "different \t1         \n",
      "develop   \t1         \n",
      "sqrt      \t1         \n",
      "answer    \t1         \n",
      "begin     \t1         \n",
      "driver    \t1         \n",
      "regularization\t1         \n",
      "tune      \t1         \n",
      "httpsdocsgooglecomformsd1ZOr9RnIeA06AcZDB6K1mJN4vrLeSmS2PD6Xm3eOiisviewformuspsendform\t1         \n",
      "occurence \t1         \n",
      "maxIterations10\t1         \n",
      "savings   \t1         \n",
      "algorithms\t1         \n",
      "arrayfloatx\t1         \n",
      "hyper     \t1         \n",
      "show      \t1         \n",
      "text      \t1         \n",
      "experiments\t1         \n",
      "follow    \t1         \n",
      "find      \t1         \n",
      "inverse   \t1         \n",
      "la        \t1         \n",
      "program   \t1         \n",
      "do        \t1         \n",
      "good      \t1         \n",
      "get       \t1         \n",
      "evaluate  \t1         \n",
      "framework \t1         \n",
      "made      \t1         \n",
      "progress  \t1         \n",
      "sorted    \t1         \n",
      "dataset   \t1         \n",
      "instructions\t1         \n",
      "homegrown \t1         \n",
      "server    \t1         \n",
      "assignments\t1         \n",
      "either    \t1         \n",
      "runs10    \t1         \n",
      "often     \t1         \n",
      "back      \t1         \n",
      "located   \t1         \n",
      "are       \t1         \n",
      "measure   \t1         \n",
      "experiements\t1         \n",
      "parsedData\t1         \n",
      "separate  \t1         \n",
      "experiment\t1         \n",
      "creating  \t1         \n",
      "output    \t1         \n",
      "by        \t1         \n",
      "massive   \t1         \n",
      "first     \t1         \n",
      "computational\t1         \n",
      "number    \t1         \n",
      "weighted  \t1         \n",
      "management\t1         \n",
      "give      \t1         \n",
      "appears   \t1         \n",
      "going     \t1         \n",
      "thru      \t1         \n",
      "more      \t1         \n",
      "httpswwwdropboxcomsatzqkc0p1eajuz6LinearRegressionNotebookChallengeipynbdl0\t1         \n",
      "train     \t1         \n",
      "hundred   \t1         \n",
      "parsedDatamaplambda\t1         \n",
      "work      \t1         \n",
      "can       \t1         \n",
      "computing \t1         \n",
      "manner    \t1         \n",
      "az        \t1         \n",
      "httpsdocsgooglecomspreadsheetsd1ncFQl5Tovn16slD8mYjPnzMTPSfiGeLLzW8vsMjgedituspsharing\t1         \n",
      "documents \t1         \n",
      "descent   \t1         \n",
      "instance  \t1         \n",
      "other     \t1         \n",
      "printWithin\t1         \n",
      "sctextFilekmeansdatatxt\t1         \n",
      "assignment\t1         \n",
      "applications\t1         \n",
      "linesplit \t1         \n",
      "such      \t1         \n",
      "weightX   \t1         \n",
      "errorpointreducelambda\t1         \n",
      "sets      \t1         \n",
      "element   \t1         \n"
     ]
    }
   ],
   "source": [
    "def preprocess_lowertext(line):\n",
    "    line = re.sub(u'[^A-Za-z0-9 ]+', '', line)\n",
    "    return line.strip().split()\n",
    "\n",
    "# Now parallelize the words in the text file, filter the words, do the word count and then sort\n",
    "words_list = sc.textFile('hdfs://localhost:54310/user/root/wk10/hw101/MIDS-MLS-HW-10.txt')\n",
    "lower_words_rdd = words_list.flatMap(preprocess_text).filter(lambda x: x[0].islower()).map(lambda x:(x,1)).reduceByKey(lambda x,y:x+y)\n",
    "lower_words_sorted = lower_words_rdd.map(lambda x: (x[1], x[0])).sortByKey(ascending=False).collect()\n",
    "\n",
    "print \"{:10s}\\t{:10s}\".format('Word', 'Count')\n",
    "print \"========================\"\n",
    "for count, word in lower_words_sorted:\n",
    "    print \"{:10s}\\t{:10s}\".format(word, str(count))"
   ]
  },
  {
   "cell_type": "markdown",
   "metadata": {},
   "source": [
    "# HW 10.2: KMeans a la MLLib\n",
    "\n",
    "Using the following  MLlib-centric KMeans code snippet: \n",
    "\n",
    "****NOTE  kmeans_data.txt is available here https://www.dropbox.com/s/q85t0ytb9apggnh/kmeans_data.txt?dl=0 ****\n",
    "\n",
    "Run this code snippet and list the clusters that your find and compute the Within Set Sum of Squared Errors for the found clusters. Comment on your findings."
   ]
  },
  {
   "cell_type": "code",
   "execution_count": 23,
   "metadata": {
    "collapsed": true
   },
   "outputs": [],
   "source": [
    "!hdfs dfs -copyFromLocal kmeans_data.txt /user/root/wk10/hw102/"
   ]
  },
  {
   "cell_type": "code",
   "execution_count": 9,
   "metadata": {
    "collapsed": true
   },
   "outputs": [],
   "source": [
    "from pyspark.mllib.clustering import KMeans, KMeansModel\n",
    "from numpy import array\n",
    "from math import sqrt\n",
    "\n",
    "# Evaluate clustering by computing Within Set Sum of Squared Errors\n",
    "def error(point):\n",
    "    center = clusters.centers[clusters.predict(point)]\n",
    "    return sqrt(sum([x**2 for x in (point - center)]))\n",
    "\n",
    "\n",
    "def run_kmeans(filename, k, iterations, delimiter=' '):\n",
    "    \n",
    "    global clusters\n",
    "\n",
    "    # Load and parse the data\n",
    "    # NOTE  kmeans_data.txt is available here \n",
    "    #          https://www.dropbox.com/s/q85t0ytb9apggnh/kmeans_data.txt?dl=0 \n",
    "    #data = sc.textFile(\"hdfs://localhost:54310/user/root/wk10/hw102/kmeans_data.txt\")  \n",
    "    data = sc.textFile(filename)\n",
    "    parsedData = data.map(lambda line: array([float(x) for x in line.split(delimiter)]))\n",
    "\n",
    "    # Build the model (cluster the data)\n",
    "    clusters = KMeans.train(parsedData, k, maxIterations=iterations,runs=10, initializationMode=\"random\")\n",
    "\n",
    "    \n",
    "    WSSSE = parsedData.map(lambda point: error(point)).reduce(lambda x, y: x + y)\n",
    "    print(\"Within Set Sum of Squared Error = \" + str(WSSSE))\n",
    "\n",
    "    # Save and load model\n",
    "    myModelPath = filename.replace(filename.split('/')[-1], 'myModelPath')\n",
    "    clusters.save(sc, myModelPath)\n",
    "    sameModel = KMeansModel.load(sc, myModelPath)\n",
    "    \n",
    "    return [sameModel, WSSSE]"
   ]
  },
  {
   "cell_type": "code",
   "execution_count": 12,
   "metadata": {
    "collapsed": false
   },
   "outputs": [
    {
     "name": "stdout",
     "output_type": "stream",
     "text": [
      "16/03/28 23:21:09 INFO fs.TrashPolicyDefault: Namenode trash configuration: Deletion interval = 0 minutes, Emptier interval = 0 minutes.\n",
      "Deleted /user/root/wk10/hw102/myModelPath\n",
      "Within Set Sum of Squared Error = 0.692820323028\n",
      "Number of iterations - 1 \n",
      "\n",
      "(DenseVector([9.1, 9.1, 9.1]), DenseVector([0.1, 0.1, 0.1])) \n",
      "\n",
      "\n",
      "16/03/28 23:21:13 INFO fs.TrashPolicyDefault: Namenode trash configuration: Deletion interval = 0 minutes, Emptier interval = 0 minutes.\n",
      "Deleted /user/root/wk10/hw102/myModelPath\n",
      "\n",
      "\n",
      "\n",
      "Within Set Sum of Squared Error = 0.692820323028\n",
      "Number of iterations - 5 \n",
      "\n",
      "(DenseVector([9.1, 9.1, 9.1]), DenseVector([0.1, 0.1, 0.1]))\n"
     ]
    }
   ],
   "source": [
    "!hdfs dfs -rm -r /user/root/wk10/hw102/myModelPath\n",
    "filename = \"hdfs://localhost:54310/user/root/wk10/hw102/kmeans_data.txt\"\n",
    "centroids = run_kmeans(filename, 2, 1)\n",
    "print \"Number of iterations - 1 \\n\"\n",
    "print centroids[0].clusterCenters, '\\n\\n'\n",
    "\n",
    "!hdfs dfs -rm -r /user/root/wk10/hw102/myModelPath\n",
    "print '\\n\\n'\n",
    "centroids = run_kmeans(filename, 2, 5)\n",
    "print \"Number of iterations - 5 \\n\"\n",
    "print centroids[0].clusterCenters\n"
   ]
  },
  {
   "cell_type": "markdown",
   "metadata": {},
   "source": [
    "****Answer:****\n",
    "Given such a simple data set, the model converges very rapidly in just 5 iterations and the lower WSSSE value also helps that fact."
   ]
  },
  {
   "cell_type": "markdown",
   "metadata": {},
   "source": [
    "# HW 10.3\n",
    "Download the following KMeans notebook:\n",
    "\n",
    "https://www.dropbox.com/s/3nsthvp8g2rrrdh/EM-Kmeans.ipynb?dl=0\n",
    "\n",
    "Generate 3 clusters with 100 (one hundred) data points per cluster (using the code provided). Plot the data."
   ]
  },
  {
   "cell_type": "markdown",
   "metadata": {},
   "source": [
    "## Data Generation"
   ]
  },
  {
   "cell_type": "code",
   "execution_count": 51,
   "metadata": {
    "collapsed": true
   },
   "outputs": [],
   "source": [
    "%matplotlib inline\n",
    "import numpy as np\n",
    "import pylab \n",
    "import json\n",
    "size1 = size2 = size3 = 100\n",
    "samples1 = np.random.multivariate_normal([4, 0], [[1, 0],[0, 1]], size1)\n",
    "data = samples1\n",
    "samples2 = np.random.multivariate_normal([6, 6], [[1, 0],[0, 1]], size2)\n",
    "data = np.append(data,samples2, axis=0)\n",
    "samples3 = np.random.multivariate_normal([0, 4], [[1, 0],[0, 1]], size3)\n",
    "data = np.append(data,samples3, axis=0)\n",
    "# Randomlize data\n",
    "data = data[np.random.permutation(size1+size2+size3),]\n",
    "np.savetxt('data.csv',data,delimiter = ',', fmt='%.8f')"
   ]
  },
  {
   "cell_type": "code",
   "execution_count": 52,
   "metadata": {
    "collapsed": false
   },
   "outputs": [],
   "source": [
    "!hdfs dfs -copyFromLocal data.csv /user/root/wk10/hw103"
   ]
  },
  {
   "cell_type": "markdown",
   "metadata": {},
   "source": [
    "## Data Visualization"
   ]
  },
  {
   "cell_type": "code",
   "execution_count": 53,
   "metadata": {
    "collapsed": false
   },
   "outputs": [
    {
     "data": {
      "image/png": "[encoded data removed]",
      "text/plain": [
       "<matplotlib.figure.Figure at 0x7ff5196d2c50>"
      ]
     },
     "metadata": {},
     "output_type": "display_data"
    }
   ],
   "source": [
    "def plot_samples(title, means):\n",
    "\n",
    "    pylab.plot(samples1[:, 0], samples1[:, 1],'.', color = 'red')\n",
    "    pylab.plot(samples2[:, 0], samples2[:, 1],'.',color = 'blue')\n",
    "    pylab.plot(samples3[:, 0], samples3[:, 1],'.',color = 'green')\n",
    "    \n",
    "    pylab.plot(means[0][0], means[0][1],'o', markersize=10, color = 'black')\n",
    "    pylab.plot(means[1][0], means[1][1],'o', markersize=10, color = 'black')\n",
    "    pylab.plot(means[2][0], means[2][1],'o', markersize=10, color = 'black')\n",
    "    \n",
    "\n",
    "    pylab.show()\n",
    "    \n",
    "plot_samples('Plotting samples', [[4,0],[6,6],[0,4]])"
   ]
  },
  {
   "cell_type": "markdown",
   "metadata": {},
   "source": [
    "**Then run MLlib's Kmean implementation on this data  and report your results as follows:**\n",
    "\n",
    "  -- plot the resulting clusters after 1 iteration, 10 iterations, after 20 iterations, after 100 iterations. <br>\n",
    "  -- in each plot please report the Within Set Sum of Squared Errors for the found clusters. Comment on the progress of this measure as the KMEans algorithms runs for more iterations"
   ]
  },
  {
   "cell_type": "code",
   "execution_count": 56,
   "metadata": {
    "collapsed": true
   },
   "outputs": [],
   "source": [
    "# HW 10.3 - Main driver program\n",
    "\n",
    "from pyspark.mllib.clustering import KMeans, KMeansModel\n",
    "from numpy import array\n",
    "from math import sqrt\n",
    "\n",
    "# Evaluate clustering by computing Within Set Sum of Squared Errors\n",
    "def error(point, clusters):\n",
    "    center = clusters.centers[clusters.predict(point)]\n",
    "    return sqrt(sum([x**2 for x in (point - center)]))\n",
    "\n",
    "\n",
    "def run_mllib_kmeans(filename, k, iterations):\n",
    "    \n",
    "    # Load and parse the data\n",
    "    # NOTE  kmeans_data.txt is available here \n",
    "    #          https://www.dropbox.com/s/q85t0ytb9apggnh/kmeans_data.txt?dl=0 \n",
    "    #data = sc.textFile(\"hdfs://localhost:54310/user/root/wk10/hw102/kmeans_data.txt\")  \n",
    "    data = sc.textFile(filename)\n",
    "    parsedData = data.map(lambda line: array([float(x) for x in line.split(',')])).cache()\n",
    "\n",
    "    # Build the model (cluster the data)\n",
    "    clusters = KMeans.train(parsedData, k, maxIterations=iterations,runs=10, initializationMode=\"random\")\n",
    "\n",
    "    \n",
    "    WSSSE = parsedData.map(lambda point: error(point, clusters)).reduce(lambda x, y: x + y)\n",
    "    print(\"Within Set Sum of Squared Error = \" + str(WSSSE))\n",
    "\n",
    "    # Save and load model\n",
    "    myModelPath = filename.replace(filename.split('/')[-1], 'myModelPath')\n",
    "    clusters.save(sc, myModelPath)\n",
    "    sameModel = KMeansModel.load(sc, myModelPath) \n",
    "    \n",
    "    return [sameModel, WSSSE]"
   ]
  },
  {
   "cell_type": "code",
   "execution_count": 57,
   "metadata": {
    "collapsed": false
   },
   "outputs": [
    {
     "name": "stdout",
     "output_type": "stream",
     "text": [
      "16/03/29 00:07:55 INFO fs.TrashPolicyDefault: Namenode trash configuration: Deletion interval = 0 minutes, Emptier interval = 0 minutes.\n",
      "Deleted hdfs://localhost:54310/user/root/wk10/hw103/myModelPath\n",
      "\n",
      "Iteration -  1\n",
      "Within Set Sum of Squared Error = 359.93815234\n",
      "(DenseVector([6.148, 6.0969]), DenseVector([-0.0148, 4.1781]), DenseVector([4.0588, 0.0025]))\n",
      "\n"
     ]
    },
    {
     "data": {
      "image/png": "[encoded data removed]",
      "text/plain": [
       "<matplotlib.figure.Figure at 0x7ff5195dc250>"
      ]
     },
     "metadata": {},
     "output_type": "display_data"
    },
    {
     "name": "stdout",
     "output_type": "stream",
     "text": [
      "16/03/29 00:08:00 INFO fs.TrashPolicyDefault: Namenode trash configuration: Deletion interval = 0 minutes, Emptier interval = 0 minutes.\n",
      "Deleted hdfs://localhost:54310/user/root/wk10/hw103/myModelPath\n",
      "\n",
      "Iteration -  10\n",
      "Within Set Sum of Squared Error = 359.930084502\n",
      "(DenseVector([6.1028, 6.0819]), DenseVector([-0.0922, 4.1549]), DenseVector([4.0588, 0.0025]))\n",
      "\n"
     ]
    },
    {
     "data": {
      "image/png": "[encoded data removed]",
      "text/plain": [
       "<matplotlib.figure.Figure at 0x7ff519370b50>"
      ]
     },
     "metadata": {},
     "output_type": "display_data"
    },
    {
     "name": "stdout",
     "output_type": "stream",
     "text": [
      "16/03/29 00:08:04 INFO fs.TrashPolicyDefault: Namenode trash configuration: Deletion interval = 0 minutes, Emptier interval = 0 minutes.\n",
      "Deleted hdfs://localhost:54310/user/root/wk10/hw103/myModelPath\n",
      "\n",
      "Iteration -  20\n",
      "Within Set Sum of Squared Error = 359.930084502\n",
      "(DenseVector([6.1028, 6.0819]), DenseVector([4.0588, 0.0025]), DenseVector([-0.0922, 4.1549]))\n",
      "\n"
     ]
    },
    {
     "data": {
      "image/png": "[encoded data removed]",
      "text/plain": [
       "<matplotlib.figure.Figure at 0x7ff5199670d0>"
      ]
     },
     "metadata": {},
     "output_type": "display_data"
    },
    {
     "name": "stdout",
     "output_type": "stream",
     "text": [
      "16/03/29 00:08:09 INFO fs.TrashPolicyDefault: Namenode trash configuration: Deletion interval = 0 minutes, Emptier interval = 0 minutes.\n",
      "Deleted hdfs://localhost:54310/user/root/wk10/hw103/myModelPath\n",
      "\n",
      "Iteration -  100\n",
      "Within Set Sum of Squared Error = 359.930084502\n",
      "(DenseVector([6.1028, 6.0819]), DenseVector([-0.0922, 4.1549]), DenseVector([4.0588, 0.0025]))\n",
      "\n"
     ]
    },
    {
     "data": {
      "image/png": "[encoded data removed]",
      "text/plain": [
       "<matplotlib.figure.Figure at 0x7ff5197ee050>"
      ]
     },
     "metadata": {},
     "output_type": "display_data"
    }
   ],
   "source": [
    "centroids_list = []\n",
    "ks = [1, 10, 20, 100]\n",
    "\n",
    "for k in ks:\n",
    "    filename = 'hdfs://localhost:54310/user/root/wk10/hw103/data.csv'\n",
    "    !hdfs dfs -rm -r {filename.replace('data.csv', 'myModelPath')}\n",
    "    print ''\n",
    "    print \"Iteration - \", k\n",
    "    centroids = run_mllib_kmeans(filename, 3, k)\n",
    "    centroids_list.append(centroids)\n",
    "    print str(centroids[0].clusterCenters) + '\\n' \n",
    "    plot_samples('Plotting the clusters', centroids[0].clusterCenters)"
   ]
  },
  {
   "cell_type": "markdown",
   "metadata": {
    "collapsed": true
   },
   "source": [
    "# HW 10.4:\n",
    "Using the KMeans code (homegrown code) provided repeat the experiments in HW10.3. Comment on any differences between the results in HW10.3 and HW10.4. Explain."
   ]
  },
  {
   "cell_type": "code",
   "execution_count": 58,
   "metadata": {
    "collapsed": true
   },
   "outputs": [],
   "source": [
    "import numpy as np\n",
    "\n",
    "#Calculate which class each data point belongs to\n",
    "def nearest_centroid(line):\n",
    "    x = np.array([float(f) for f in line.split(',')])\n",
    "    closest_centroid_idx = np.sum((x - centroids)**2, axis=1).argmin()\n",
    "    return (closest_centroid_idx,(x,1))\n",
    "\n",
    "#plot centroids and data points for each iteration\n",
    "def plot_iteration(means):\n",
    "    pylab.plot(samples1[:, 0], samples1[:, 1], '.', color = 'blue')\n",
    "    pylab.plot(samples2[:, 0], samples2[:, 1], '.', color = 'blue')\n",
    "    pylab.plot(samples3[:, 0], samples3[:, 1],'.', color = 'blue')\n",
    "    pylab.plot(means[0][0], means[0][1],'*',markersize =10,color = 'red')\n",
    "    pylab.plot(means[1][0], means[1][1],'*',markersize =10,color = 'red')\n",
    "    pylab.plot(means[2][0], means[2][1],'*',markersize =10,color = 'red')\n",
    "    pylab.show()"
   ]
  },
  {
   "cell_type": "code",
   "execution_count": 68,
   "metadata": {
    "collapsed": true
   },
   "outputs": [],
   "source": [
    "def error(line):\n",
    "    center = centroids[nearest_centroid(line)[0]]\n",
    "    point = np.array([float(f) for f in line.split(',')])\n",
    "    return sqrt(sum([x**2 for x in (point - center)]))\n",
    "    \n",
    "def run_kmeans(filename, k, iterations):\n",
    "    # Initialization: initialization of parameter is fixed to show an example\n",
    "    global centroids\n",
    "    \n",
    "    centroids = np.array([[0.0,0.0],[2.0,2.0],[0.0,7.0]])\n",
    "\n",
    "    D = sc.textFile(filename).cache()\n",
    "    \n",
    "    centroids_list = []\n",
    "    centroids_list.append(centroids)\n",
    "    iter_num = 0\n",
    "    \n",
    "    print \"\\n\\n\\n{:15s} {:<24s} {:<24s} {:<24s}\".format('Iteration', 'Centroid 1', 'Centroid 2', 'Centroid 3')\n",
    "    print \"=====================================================================================\"\n",
    "    \n",
    "    format_str = \"{:<15d} ({: 8.4f}, {: 8.4f}) ({: 8.4f}, {: 8.4f}) ({: 8.4f}, {: 8.4f})\"\n",
    "    print format_str.format(iter_num, centroids[0][0],centroids[0][1],\n",
    "                            centroids[1][0], centroids[1][1],\n",
    "                            centroids[2][0], centroids[2][1])\n",
    "    \n",
    "    for i in range(iterations):  \n",
    "        res = D.map(nearest_centroid).reduceByKey(lambda x,y : (x[0]+y[0],x[1]+y[1])).collect()\n",
    "        #res [(0, (array([  2.66546663e+00,   3.94844436e+03]), 1001)  ), \n",
    "        #     (2, (array([ 6023.84995923,  5975.48511018]), 1000)), \n",
    "        #     (1, (array([ 3986.85984761,    15.93153464]), 999))]\n",
    "        # res[1][1][1] returns 1000 here\n",
    "        res = sorted(res,key = lambda x : x[0])  #sort based on clusted ID\n",
    "        centroids_new = np.array([x[1][0]/x[1][1] for x in res])  #divide by cluster size\n",
    "        if np.sum(np.absolute(centroids_new-centroids))<0.01:\n",
    "            break\n",
    "        iter_num = iter_num + 1 \n",
    "        centroids = centroids_new\n",
    "        print format_str.format(iter_num,centroids[0][0],centroids[0][1],\n",
    "                            centroids[1][0], centroids[1][1],\n",
    "                            centroids[2][0], centroids[2][1])\n",
    "        \n",
    "    WSSE = D.map(error).reduce(lambda x,y:x+y)\n",
    "    print \"\\nFinal Results (WSSE):\", WSSE\n",
    "    print \"\\n\\n\"\n",
    "    plot_iteration(centroids)\n",
    "    #print centroids\n",
    "    "
   ]
  },
  {
   "cell_type": "code",
   "execution_count": 69,
   "metadata": {
    "collapsed": false
   },
   "outputs": [
    {
     "name": "stdout",
     "output_type": "stream",
     "text": [
      "\n",
      "\n",
      "\n",
      "Iteration       Centroid 1               Centroid 2               Centroid 3              \n",
      "=====================================================================================\n",
      "0               (  0.0000,   0.0000) (  2.0000,   2.0000) (  0.0000,   7.0000)\n",
      "1               (  1.6373,  -0.3811) (  4.0208,   2.7470) (  1.9430,   5.6945)\n",
      "\n",
      "Final Results (WSSE): 868.784399924\n",
      "\n",
      "\n",
      "\n"
     ]
    },
    {
     "data": {
      "image/png": "[encoded data removed]",
      "text/plain": [
       "<matplotlib.figure.Figure at 0x7ff519a09590>"
      ]
     },
     "metadata": {},
     "output_type": "display_data"
    },
    {
     "name": "stdout",
     "output_type": "stream",
     "text": [
      "\n",
      "\n",
      "\n",
      "Iteration       Centroid 1               Centroid 2               Centroid 3              \n",
      "=====================================================================================\n",
      "0               (  0.0000,   0.0000) (  2.0000,   2.0000) (  0.0000,   7.0000)\n",
      "1               (  1.6373,  -0.3811) (  4.0208,   2.7470) (  1.9430,   5.6945)\n",
      "2               (  3.1573,  -0.2199) (  5.6736,   3.7761) (  1.4949,   5.0594)\n",
      "3               (  3.8811,  -0.1056) (  6.0987,   5.7969) ( -0.0235,   4.2508)\n",
      "4               (  4.0588,   0.0025) (  6.1028,   6.0819) ( -0.0922,   4.1549)\n",
      "\n",
      "Final Results (WSSE): 359.930084502\n",
      "\n",
      "\n",
      "\n"
     ]
    },
    {
     "data": {
      "image/png": "[encoded data removed]",
      "text/plain": [
       "<matplotlib.figure.Figure at 0x7ff519645b10>"
      ]
     },
     "metadata": {},
     "output_type": "display_data"
    },
    {
     "name": "stdout",
     "output_type": "stream",
     "text": [
      "\n",
      "\n",
      "\n",
      "Iteration       Centroid 1               Centroid 2               Centroid 3              \n",
      "=====================================================================================\n",
      "0               (  0.0000,   0.0000) (  2.0000,   2.0000) (  0.0000,   7.0000)\n",
      "1               (  1.6373,  -0.3811) (  4.0208,   2.7470) (  1.9430,   5.6945)\n",
      "2               (  3.1573,  -0.2199) (  5.6736,   3.7761) (  1.4949,   5.0594)\n",
      "3               (  3.8811,  -0.1056) (  6.0987,   5.7969) ( -0.0235,   4.2508)\n",
      "4               (  4.0588,   0.0025) (  6.1028,   6.0819) ( -0.0922,   4.1549)\n",
      "\n",
      "Final Results (WSSE): 359.930084502\n",
      "\n",
      "\n",
      "\n"
     ]
    },
    {
     "data": {
      "image/png": "[encoded data removed]",
      "text/plain": [
       "<matplotlib.figure.Figure at 0x7ff51940de50>"
      ]
     },
     "metadata": {},
     "output_type": "display_data"
    },
    {
     "name": "stdout",
     "output_type": "stream",
     "text": [
      "\n",
      "\n",
      "\n",
      "Iteration       Centroid 1               Centroid 2               Centroid 3              \n",
      "=====================================================================================\n",
      "0               (  0.0000,   0.0000) (  2.0000,   2.0000) (  0.0000,   7.0000)\n",
      "1               (  1.6373,  -0.3811) (  4.0208,   2.7470) (  1.9430,   5.6945)\n",
      "2               (  3.1573,  -0.2199) (  5.6736,   3.7761) (  1.4949,   5.0594)\n",
      "3               (  3.8811,  -0.1056) (  6.0987,   5.7969) ( -0.0235,   4.2508)\n",
      "4               (  4.0588,   0.0025) (  6.1028,   6.0819) ( -0.0922,   4.1549)\n",
      "\n",
      "Final Results (WSSE): 359.930084502\n",
      "\n",
      "\n",
      "\n"
     ]
    },
    {
     "data": {
      "image/png": "[encoded data removed]",
      "text/plain": [
       "<matplotlib.figure.Figure at 0x7ff5192d4710>"
      ]
     },
     "metadata": {},
     "output_type": "display_data"
    }
   ],
   "source": [
    "filename = 'hdfs://localhost:54310/user/root/wk10/hw103/data.csv'\n",
    "\n",
    "ks = [1,10,20,100]\n",
    "\n",
    "for k in ks:\n",
    "    run_kmeans(filename, 3, k)"
   ]
  },
  {
   "cell_type": "raw",
   "metadata": {},
   "source": [
    "As observed in 10.3 and 10.4, both homegrown and MLLib implementations converge rapidly by the 4th iteration and produce identical results at the end of the 4th iteration."
   ]
  },
  {
   "cell_type": "markdown",
   "metadata": {},
   "source": [
    "# HW 10.5: \n",
    "Using the KMeans code provided modify it to do a weighted KMeans and repeat the experiements in HW10.3. Comment on any differences between the results in HW10.3 and HW10.5. Explain.\n",
    "\n",
    "NOTE: Weight each example as follows using the inverse vector length (Euclidean norm): \n",
    "\n",
    "weight(X)= 1/||X||, \n",
    "\n",
    "where ||X|| = SQRT(X.X)= SQRT(X1^2 + X2^2)\n",
    "\n",
    "Here X is vector made up of X1 and X2."
   ]
  },
  {
   "cell_type": "code",
   "execution_count": 71,
   "metadata": {
    "collapsed": true
   },
   "outputs": [],
   "source": [
    "from numpy import linalg\n",
    "# vector - (cluster_id, (x,y))   \n",
    "def weighted(vector):\n",
    "    cluster_id = vector[0]\n",
    "    x = vector[1][0]\n",
    "    w = 1.0/linalg.norm(x)\n",
    "    return cluster_id, (x*w, w)\n",
    "    \n",
    "    \n",
    "\n",
    "def run_weighted_kmeans(filename, k, iterations):\n",
    "    # Initialization: initialization of parameter is fixed to show an example\n",
    "    global centroids\n",
    "    \n",
    "    centroids = np.array([[0.0,0.0],[2.0,2.0],[0.0,7.0]])\n",
    "\n",
    "    D = sc.textFile(filename).cache()\n",
    "    \n",
    "    centroids_list = []\n",
    "    centroids_list.append(centroids)\n",
    "    iter_num = 0\n",
    "    \n",
    "    print \"\\n\\n\\n{:15s} {:<24s} {:<24s} {:<24s}\".format('Iteration', 'Centroid 1', 'Centroid 2', 'Centroid 3')\n",
    "    print \"=====================================================================================\"\n",
    "    \n",
    "    format_str = \"{:<15d} ({: 8.4f}, {: 8.4f}) ({: 8.4f}, {: 8.4f}) ({: 8.4f}, {: 8.4f})\"\n",
    "    print format_str.format(iter_num, centroids[0][0],centroids[0][1],\n",
    "                            centroids[1][0], centroids[1][1],\n",
    "                            centroids[2][0], centroids[2][1])\n",
    "    \n",
    "    for i in range(iterations):  \n",
    "        res = D.map(nearest_centroid).map(weighted).reduceByKey(lambda x,y : (x[0]+y[0],x[1]+y[1])).collect()\n",
    "        #res [(0, (array([  2.66546663e+00,   3.94844436e+03]), 1001)  ), \n",
    "        #     (2, (array([ 6023.84995923,  5975.48511018]), 1000)), \n",
    "        #     (1, (array([ 3986.85984761,    15.93153464]), 999))]\n",
    "        # res[1][1][1] returns 1000 here\n",
    "        res = sorted(res,key = lambda x : x[0])  #sort based on clusted ID\n",
    "        centroids_new = np.array([x[1][0]/x[1][1] for x in res])  #divide by cluster size\n",
    "        if np.sum(np.absolute(centroids_new-centroids))<0.01:\n",
    "            break\n",
    "        iter_num = iter_num + 1 \n",
    "        centroids = centroids_new\n",
    "        print format_str.format(iter_num,centroids[0][0],centroids[0][1],\n",
    "                            centroids[1][0], centroids[1][1],\n",
    "                            centroids[2][0], centroids[2][1])\n",
    "        \n",
    "    WSSE = D.map(error).reduce(lambda x,y:x+y)\n",
    "    print \"\\nFinal Results (WSSE):\", WSSE\n",
    "    print \"\\n\\n\"\n",
    "    plot_iteration(centroids)\n",
    "    #print centroids\n",
    "    "
   ]
  },
  {
   "cell_type": "code",
   "execution_count": 73,
   "metadata": {
    "collapsed": false
   },
   "outputs": [
    {
     "name": "stdout",
     "output_type": "stream",
     "text": [
      "\n",
      "\n",
      "\n",
      "Iteration       Centroid 1               Centroid 2               Centroid 3              \n",
      "=====================================================================================\n",
      "0               (  0.0000,   0.0000) (  2.0000,   2.0000) (  0.0000,   7.0000)\n",
      "1               (  1.2029,  -0.0571) (  3.2624,   2.1485) (  1.0991,   5.3271)\n",
      "\n",
      "Final Results (WSSE): 893.635715411\n",
      "\n",
      "\n",
      "\n"
     ]
    },
    {
     "data": {
      "image/png": "[encoded data removed]",
      "text/plain": [
       "<matplotlib.figure.Figure at 0x7ff5198175d0>"
      ]
     },
     "metadata": {},
     "output_type": "display_data"
    },
    {
     "name": "stdout",
     "output_type": "stream",
     "text": [
      "\n",
      "\n",
      "\n",
      "Iteration       Centroid 1               Centroid 2               Centroid 3              \n",
      "=====================================================================================\n",
      "0               (  0.0000,   0.0000) (  2.0000,   2.0000) (  0.0000,   7.0000)\n",
      "1               (  1.2029,  -0.0571) (  3.2624,   2.1485) (  1.0991,   5.3271)\n",
      "2               (  2.1327,  -0.1333) (  4.8421,   2.0834) (  0.7358,   4.5418)\n",
      "3               (  3.0319,  -0.2604) (  5.4663,   3.6545) ( -0.0490,   4.0296)\n",
      "4               (  3.5055,  -0.0999) (  5.9444,   5.4897) ( -0.1221,   3.9210)\n",
      "5               (  3.7754,  -0.0465) (  6.0188,   5.9632) ( -0.1006,   3.7600)\n",
      "6               (  3.7832,  -0.0273) (  6.0365,   6.0141) ( -0.1006,   3.7600)\n",
      "\n",
      "Final Results (WSSE): 366.670795749\n",
      "\n",
      "\n",
      "\n"
     ]
    },
    {
     "data": {
      "image/png": "[encoded data removed]",
      "text/plain": [
       "<matplotlib.figure.Figure at 0x7ff51975d090>"
      ]
     },
     "metadata": {},
     "output_type": "display_data"
    },
    {
     "name": "stdout",
     "output_type": "stream",
     "text": [
      "\n",
      "\n",
      "\n",
      "Iteration       Centroid 1               Centroid 2               Centroid 3              \n",
      "=====================================================================================\n",
      "0               (  0.0000,   0.0000) (  2.0000,   2.0000) (  0.0000,   7.0000)\n",
      "1               (  1.2029,  -0.0571) (  3.2624,   2.1485) (  1.0991,   5.3271)\n",
      "2               (  2.1327,  -0.1333) (  4.8421,   2.0834) (  0.7358,   4.5418)\n",
      "3               (  3.0319,  -0.2604) (  5.4663,   3.6545) ( -0.0490,   4.0296)\n",
      "4               (  3.5055,  -0.0999) (  5.9444,   5.4897) ( -0.1221,   3.9210)\n",
      "5               (  3.7754,  -0.0465) (  6.0188,   5.9632) ( -0.1006,   3.7600)\n",
      "6               (  3.7832,  -0.0273) (  6.0365,   6.0141) ( -0.1006,   3.7600)\n",
      "\n",
      "Final Results (WSSE): 366.670795749\n",
      "\n",
      "\n",
      "\n"
     ]
    },
    {
     "data": {
      "image/png": "[encoded data removed]",
      "text/plain": [
       "<matplotlib.figure.Figure at 0x7ff5404d29d0>"
      ]
     },
     "metadata": {},
     "output_type": "display_data"
    },
    {
     "name": "stdout",
     "output_type": "stream",
     "text": [
      "\n",
      "\n",
      "\n",
      "Iteration       Centroid 1               Centroid 2               Centroid 3              \n",
      "=====================================================================================\n",
      "0               (  0.0000,   0.0000) (  2.0000,   2.0000) (  0.0000,   7.0000)\n",
      "1               (  1.2029,  -0.0571) (  3.2624,   2.1485) (  1.0991,   5.3271)\n",
      "2               (  2.1327,  -0.1333) (  4.8421,   2.0834) (  0.7358,   4.5418)\n",
      "3               (  3.0319,  -0.2604) (  5.4663,   3.6545) ( -0.0490,   4.0296)\n",
      "4               (  3.5055,  -0.0999) (  5.9444,   5.4897) ( -0.1221,   3.9210)\n",
      "5               (  3.7754,  -0.0465) (  6.0188,   5.9632) ( -0.1006,   3.7600)\n",
      "6               (  3.7832,  -0.0273) (  6.0365,   6.0141) ( -0.1006,   3.7600)\n",
      "\n",
      "Final Results (WSSE): 366.670795749\n",
      "\n",
      "\n",
      "\n"
     ]
    },
    {
     "data": {
      "image/png": "[encoded data removed]",
      "text/plain": [
       "<matplotlib.figure.Figure at 0x7ff51959c190>"
      ]
     },
     "metadata": {},
     "output_type": "display_data"
    }
   ],
   "source": [
    "filename = 'hdfs://localhost:54310/user/root/wk10/hw103/data.csv'\n",
    "\n",
    "ks = [1,10,20,100]\n",
    "\n",
    "for k in ks:\n",
    "    run_weighted_kmeans(filename, 3, k)"
   ]
  },
  {
   "cell_type": "markdown",
   "metadata": {},
   "source": [
    "# HW 10.6: Linear Regression\n",
    "HW 10.6.1\n",
    "Using the following linear regression notebook:\n",
    "\n",
    " https://www.dropbox.com/s/atzqkc0p1eajuz6/LinearRegression-Notebook-Challenge.ipynb?dl=0 \n",
    "\n",
    "Generate 2 sets of data with 100 data points using the data generation code provided and plot each in separate plots. Call one the training set and the other the testing set.\n",
    "\n",
    "Using MLLib's LinearRegressionWithSGD train up a linear regression model with the training dataset and evaluate with the testing set. What a good number of iterations for training the linear regression model? Justify with plots and words. "
   ]
  },
  {
   "cell_type": "markdown",
   "metadata": {},
   "source": [
    "## Data Generation"
   ]
  },
  {
   "cell_type": "code",
   "execution_count": 88,
   "metadata": {
    "collapsed": true
   },
   "outputs": [],
   "source": [
    "import numpy as np\n",
    "import csv\n",
    "from pyspark.mllib.regression import LabeledPoint, LinearRegressionWithSGD\n",
    "def data_generate(fileName, w=[0,0], size=100, seed=0):\n",
    "    np.random.seed(0)\n",
    "    x = np.random.uniform(-4, 4, size)\n",
    "    noise = np.random.normal(0, 2, size)\n",
    "    y = (x * w[0] + w[1] + noise)\n",
    "    data = zip(y, x)\n",
    "    with open(fileName,'wb') as f:\n",
    "        writer = csv.writer(f)\n",
    "        for row in data:\n",
    "            writer.writerow(row)\n",
    "    return True"
   ]
  },
  {
   "cell_type": "markdown",
   "metadata": {},
   "source": [
    "## Data Visualization"
   ]
  },
  {
   "cell_type": "code",
   "execution_count": 81,
   "metadata": {
    "collapsed": true
   },
   "outputs": [],
   "source": [
    "%matplotlib inline\n",
    "import matplotlib.pyplot as plt\n",
    "def dataPlot(file, w):\n",
    "    with open(file, 'r') as f:\n",
    "        reader = csv.reader(f)\n",
    "        for row in reader:\n",
    "            plt.plot(float(row[1]), float(row[0]),'o'+'r')\n",
    "    plt.xlabel(\"x\")\n",
    "    plt.ylabel(\"y\")\n",
    "    x = [-4, 4]\n",
    "    y = [(i * w[0] + w[1]) for i in x]\n",
    "    plt.plot(x,y, linewidth=2.0)\n",
    "    plt.grid()\n",
    "    plt.show()"
   ]
  },
  {
   "cell_type": "code",
   "execution_count": 84,
   "metadata": {
    "collapsed": false
   },
   "outputs": [
    {
     "data": {
      "image/png": "[encoded data removed]",
      "text/plain": [
       "<matplotlib.figure.Figure at 0x7ff51996b450>"
      ]
     },
     "metadata": {},
     "output_type": "display_data"
    },
    {
     "data": {
      "image/png": "[encoded data removed]",
      "text/plain": [
       "<matplotlib.figure.Figure at 0x7ff519aa7f50>"
      ]
     },
     "metadata": {},
     "output_type": "display_data"
    }
   ],
   "source": [
    "w = [8,-2]\n",
    "data_generate('train_data.csv', w, 100, 200)\n",
    "dataPlot('train_data.csv',w)\n",
    "\n",
    "data_generate('test_data.csv', w, 100, 600)\n",
    "dataPlot('test_data.csv',w)"
   ]
  },
  {
   "cell_type": "code",
   "execution_count": 85,
   "metadata": {
    "collapsed": true
   },
   "outputs": [],
   "source": [
    "!hdfs dfs -copyFromLocal train_data.csv /user/root/wk10/hw106/\n",
    "!hdfs dfs -copyFromLocal test_data.csv /user/root/wk10/hw106/"
   ]
  },
  {
   "cell_type": "code",
   "execution_count": 103,
   "metadata": {
    "collapsed": true
   },
   "outputs": [],
   "source": [
    "def ierationsPlot(train_file, test_file, w):\n",
    "    x = [-4, 4]\n",
    "    \n",
    "    y = [(i * w[0] + w[1]) for i in x]\n",
    "    \n",
    "    plt.figure(figsize=(10,10))\n",
    "    plt.plot(x, y, 'b', label=\"True line\", linewidth=4.0)\n",
    "    \n",
    "    #data = sc.textFile(fileName).map(lambda line: [float(v) for v in line.split(',')]+[1.0]).cache()\n",
    "    #n = data.count()\n",
    "    train_data = sc.textFile(train_file). \\\n",
    "        map(lambda line: [float(v) for v in line.split(',')]). \\\n",
    "        map(lambda point: LabeledPoint(point[0], [point[1]])).cache()\n",
    "    \n",
    "    test_data = sc.textFile(test_file).map(lambda line: [float(v) for v in line.split(',')]+[1.0]).cache()\n",
    "        \n",
    "    n = train_data.count()\n",
    "    \n",
    "    np.random.seed(400)\n",
    "    w = np.random.normal(0,1,2)\n",
    "    y = [(i * w[0] + w[1]) for i in x]\n",
    "    plt.plot(x, y, 'r--', label=\"After 0 Iterations\", linewidth=2.0)\n",
    "    \n",
    "    squared_error = test_data.map(lambda d: (d[0] - np.dot(w, d[1:]))**2).reduce(lambda a, b: a + b)\n",
    "    print \"Mean Squared Error after 0 iterations: \" + str(squared_error/n)\n",
    "    \n",
    "    lr = LinearRegressionWithSGD.train(train_data, iterations=2, initialWeights=array([1.0]))\n",
    "    y = [lr.predict([i]) for i in x]\n",
    "    plt.plot(x, y, 'g--', label=\"After 2 Iterations\", linewidth=2.0)\n",
    "    squared_error = test_data.map(lambda d: (d[0] - lr.predict([d[1]]))**2).reduce(lambda a, b: a + b)\n",
    "    print \"Mean Squared Error after 2 iterations: \" + str(squared_error/n)\n",
    "    \n",
    "    lr = LinearRegressionWithSGD.train(train_data, iterations=4, initialWeights=array([1.0]))\n",
    "    y = [lr.predict([i]) for i in x]\n",
    "    plt.plot(x, y, 'm--', label=\"After 4 Iterations\", linewidth=2.0)\n",
    "    squared_error = test_data.map(lambda d: (d[0] - lr.predict([d[1]]))**2).reduce(lambda a, b: a + b)\n",
    "    print \"Mean Squared Error after 4 iterations: \" + str(squared_error/n)\n",
    "    \n",
    "    lr = LinearRegressionWithSGD.train(train_data, iterations=6, initialWeights=array([1.0]))\n",
    "    y = [lr.predict([i]) for i in x]\n",
    "    plt.plot(x, y, 'y--', label=\"After 6 Iterations\", linewidth=2.0)\n",
    "    squared_error = test_data.map(lambda d: (d[0] - lr.predict([d[1]]))**2).reduce(lambda a, b: a + b)\n",
    "    print \"Mean Squared Error after 6 iterations: \" + str(squared_error/n)\n",
    "    \n",
    "    lr = LinearRegressionWithSGD.train(train_data, iterations=8, initialWeights=array([1.0]))\n",
    "    y = [lr.predict([i]) for i in x]\n",
    "    plt.plot(x, y, 'y--', label=\"After 8 Iterations\", linewidth=2.0)\n",
    "    squared_error = test_data.map(lambda d: (d[0] - lr.predict([d[1]]))**2).reduce(lambda a, b: a + b)\n",
    "    print \"Mean Squared Error after 8 iterations: \" + str(squared_error/n)\n",
    "    \n",
    "    lr = LinearRegressionWithSGD.train(train_data, iterations=10, initialWeights=array([1.0]))\n",
    "    y = [lr.predict([i]) for i in x]\n",
    "    plt.plot(x, y, 'y--', label=\"After 10 Iterations\", linewidth=2.0)\n",
    "    squared_error = test_data.map(lambda d: (d[0] - lr.predict([d[1]]))**2).reduce(lambda a, b: a + b)\n",
    "    print \"Mean Squared Error after 10 iterations: \" + str(squared_error/n)\n",
    "    \n",
    "    lr = LinearRegressionWithSGD.train(train_data, iterations=12, initialWeights=array([1.0]))\n",
    "    y = [lr.predict([i]) for i in x]\n",
    "    plt.plot(x, y, 'y--', label=\"After 12 Iterations\", linewidth=2.0)\n",
    "    squared_error = test_data.map(lambda d: (d[0] - lr.predict([d[1]]))**2).reduce(lambda a, b: a + b)\n",
    "    print \"Mean Squared Error after 12 iterations: \" + str(squared_error/n)\n",
    "    \n",
    "    lr = LinearRegressionWithSGD.train(train_data, iterations=15, initialWeights=array([1.0]))\n",
    "    y = [lr.predict([i]) for i in x]\n",
    "    plt.plot(x, y, 'y--', label=\"After 15 Iterations\", linewidth=2.0)\n",
    "    squared_error = test_data.map(lambda d: (d[0] - lr.predict([d[1]]))**2).reduce(lambda a, b: a + b)\n",
    "    print \"Mean Squared Error after 15 iterations: \" + str(squared_error/n)\n",
    "    \n",
    "    plt.legend(bbox_to_anchor=(1.05, 1), loc=2, fontsize=20, borderaxespad=0.)\n",
    "    plt.xlabel(\"x\")\n",
    "    plt.ylabel(\"y\")\n",
    "    plt.grid()\n",
    "    plt.show()"
   ]
  },
  {
   "cell_type": "code",
   "execution_count": 104,
   "metadata": {
    "collapsed": false
   },
   "outputs": [
    {
     "name": "stdout",
     "output_type": "stream",
     "text": [
      "Mean Squared Error after 0 iterations: 464.394955261\n",
      "Mean Squared Error after 2 iterations: 39743.4673949\n",
      "Mean Squared Error after 4 iterations: 495972.259201\n",
      "Mean Squared Error after 6 iterations: 1379283.53188\n",
      "Mean Squared Error after 8 iterations: 1175230.41634\n",
      "Mean Squared Error after 10 iterations: 355568.279027\n",
      "Mean Squared Error after 12 iterations: 41004.4054943\n",
      "Mean Squared Error after 15 iterations: 281.227699857\n"
     ]
    },
    {
     "data": {
      "image/png": "[encoded data removed]",
      "text/plain": [
       "<matplotlib.figure.Figure at 0x7ff51995d450>"
      ]
     },
     "metadata": {},
     "output_type": "display_data"
    }
   ],
   "source": [
    "test_file = 'hdfs://localhost:54310/user/root/wk10/hw106/test_data.csv'\n",
    "train_file = 'hdfs://localhost:54310/user/root/wk10/hw106/train_data.csv'\n",
    "ierationsPlot(train_file, test_file,w=[8,-2])"
   ]
  },
  {
   "cell_type": "code",
   "execution_count": null,
   "metadata": {
    "collapsed": true
   },
   "outputs": [],
   "source": []
  }
 ],
 "metadata": {
  "kernelspec": {
   "display_name": "Python 2",
   "language": "python",
   "name": "python2"
  },
  "language_info": {
   "codemirror_mode": {
    "name": "ipython",
    "version": 2
   },
   "file_extension": ".py",
   "mimetype": "text/x-python",
   "name": "python",
   "nbconvert_exporter": "python",
   "pygments_lexer": "ipython2",
   "version": "2.7.10"
  }
 },
 "nbformat": 4,
 "nbformat_minor": 0
}
